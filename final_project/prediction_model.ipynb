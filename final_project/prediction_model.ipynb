{
 "cells": [
  {
   "cell_type": "code",
   "execution_count": 9,
   "id": "2dea646f-44ef-48da-943a-a5a5812f517e",
   "metadata": {},
   "outputs": [
    {
     "name": "stdout",
     "output_type": "stream",
     "text": [
      "<class 'pandas.core.frame.DataFrame'>\n",
      "RangeIndex: 4798 entries, 0 to 4797\n",
      "Data columns (total 8 columns):\n",
      " #   Column     Non-Null Count  Dtype  \n",
      "---  ------     --------------  -----  \n",
      " 0   Open       4734 non-null   float64\n",
      " 1   High       4734 non-null   float64\n",
      " 2   Low        4734 non-null   float64\n",
      " 3   Close      4734 non-null   float64\n",
      " 4   Inflation  4434 non-null   float64\n",
      " 5   country    4798 non-null   object \n",
      " 6   ISO3       4798 non-null   object \n",
      " 7   date       4798 non-null   object \n",
      "dtypes: float64(5), object(3)\n",
      "memory usage: 300.0+ KB\n"
     ]
    },
    {
     "data": {
      "text/html": [
       "<div>\n",
       "<style scoped>\n",
       "    .dataframe tbody tr th:only-of-type {\n",
       "        vertical-align: middle;\n",
       "    }\n",
       "\n",
       "    .dataframe tbody tr th {\n",
       "        vertical-align: top;\n",
       "    }\n",
       "\n",
       "    .dataframe thead th {\n",
       "        text-align: right;\n",
       "    }\n",
       "</style>\n",
       "<table border=\"1\" class=\"dataframe\">\n",
       "  <thead>\n",
       "    <tr style=\"text-align: right;\">\n",
       "      <th></th>\n",
       "      <th>Open</th>\n",
       "      <th>High</th>\n",
       "      <th>Low</th>\n",
       "      <th>Close</th>\n",
       "      <th>Inflation</th>\n",
       "    </tr>\n",
       "  </thead>\n",
       "  <tbody>\n",
       "    <tr>\n",
       "      <th>count</th>\n",
       "      <td>4734.000000</td>\n",
       "      <td>4734.000000</td>\n",
       "      <td>4734.000000</td>\n",
       "      <td>4734.000000</td>\n",
       "      <td>4434.000000</td>\n",
       "    </tr>\n",
       "    <tr>\n",
       "      <th>mean</th>\n",
       "      <td>1.491880</td>\n",
       "      <td>1.536158</td>\n",
       "      <td>1.451056</td>\n",
       "      <td>1.492398</td>\n",
       "      <td>14.692346</td>\n",
       "    </tr>\n",
       "    <tr>\n",
       "      <th>std</th>\n",
       "      <td>4.652457</td>\n",
       "      <td>4.883312</td>\n",
       "      <td>4.439229</td>\n",
       "      <td>4.633321</td>\n",
       "      <td>35.910342</td>\n",
       "    </tr>\n",
       "    <tr>\n",
       "      <th>min</th>\n",
       "      <td>0.010000</td>\n",
       "      <td>0.010000</td>\n",
       "      <td>0.010000</td>\n",
       "      <td>0.010000</td>\n",
       "      <td>-31.470000</td>\n",
       "    </tr>\n",
       "    <tr>\n",
       "      <th>25%</th>\n",
       "      <td>0.740000</td>\n",
       "      <td>0.750000</td>\n",
       "      <td>0.720000</td>\n",
       "      <td>0.740000</td>\n",
       "      <td>-0.487500</td>\n",
       "    </tr>\n",
       "    <tr>\n",
       "      <th>50%</th>\n",
       "      <td>0.960000</td>\n",
       "      <td>0.980000</td>\n",
       "      <td>0.950000</td>\n",
       "      <td>0.960000</td>\n",
       "      <td>5.360000</td>\n",
       "    </tr>\n",
       "    <tr>\n",
       "      <th>75%</th>\n",
       "      <td>1.100000</td>\n",
       "      <td>1.120000</td>\n",
       "      <td>1.077500</td>\n",
       "      <td>1.100000</td>\n",
       "      <td>16.372500</td>\n",
       "    </tr>\n",
       "    <tr>\n",
       "      <th>max</th>\n",
       "      <td>102.460000</td>\n",
       "      <td>106.480000</td>\n",
       "      <td>94.420000</td>\n",
       "      <td>94.420000</td>\n",
       "      <td>363.100000</td>\n",
       "    </tr>\n",
       "  </tbody>\n",
       "</table>\n",
       "</div>"
      ],
      "text/plain": [
       "              Open         High          Low        Close    Inflation\n",
       "count  4734.000000  4734.000000  4734.000000  4734.000000  4434.000000\n",
       "mean      1.491880     1.536158     1.451056     1.492398    14.692346\n",
       "std       4.652457     4.883312     4.439229     4.633321    35.910342\n",
       "min       0.010000     0.010000     0.010000     0.010000   -31.470000\n",
       "25%       0.740000     0.750000     0.720000     0.740000    -0.487500\n",
       "50%       0.960000     0.980000     0.950000     0.960000     5.360000\n",
       "75%       1.100000     1.120000     1.077500     1.100000    16.372500\n",
       "max     102.460000   106.480000    94.420000    94.420000   363.100000"
      ]
     },
     "execution_count": 9,
     "metadata": {},
     "output_type": "execute_result"
    }
   ],
   "source": [
    "from sklearn.linear_model import LinearRegression\n",
    "import pandas as pd\n",
    "import numpy as np\n",
    "import seaborn as sns\n",
    "import matplotlib.pyplot as plt\n",
    "from sklearn.ensemble import RandomForestRegressor\n",
    "from sklearn import metrics\n",
    "import pickle\n",
    "\n",
    "data = pd.read_csv('./data/data_inf.csv')\n",
    "data.shape\n",
    "data.info()\n",
    "data.describe()"
   ]
  },
  {
   "cell_type": "code",
   "execution_count": 10,
   "id": "6d047a76-7e7a-43df-9e5d-127e9f1546bd",
   "metadata": {},
   "outputs": [],
   "source": [
    "open = data['Open']\n",
    "high = data['High']\n",
    "low = data['Low']\n",
    "close = data['Close']\n",
    "inf = data['Inflation']\n",
    "date = data['date']"
   ]
  },
  {
   "cell_type": "code",
   "execution_count": 11,
   "id": "9b2edaed-de9b-4a82-aadc-45c96ef72170",
   "metadata": {},
   "outputs": [
    {
     "name": "stdout",
     "output_type": "stream",
     "text": [
      "Open          64\n",
      "High          64\n",
      "Low           64\n",
      "Close         64\n",
      "Inflation    364\n",
      "country        0\n",
      "ISO3           0\n",
      "date           0\n",
      "dtype: int64\n"
     ]
    }
   ],
   "source": [
    "# Check for missing values\n",
    "print(data.isnull().sum())"
   ]
  },
  {
   "cell_type": "code",
   "execution_count": 12,
   "id": "333726dd-f746-41f1-84fe-d7f88dad3fed",
   "metadata": {},
   "outputs": [
    {
     "name": "stdout",
     "output_type": "stream",
     "text": [
      "Open         0\n",
      "High         0\n",
      "Low          0\n",
      "Close        0\n",
      "Inflation    0\n",
      "country      0\n",
      "ISO3         0\n",
      "date         0\n",
      "dtype: int64\n"
     ]
    }
   ],
   "source": [
    "open.fillna(open.mean(), inplace = True)\n",
    "high.fillna(high.mean(), inplace =True)\n",
    "low.fillna(low.mean(), inplace = True)\n",
    "close.fillna(close.mean(), inplace = True)\n",
    "inf.fillna(inf.mean(), inplace = True)\n",
    "print(data.isnull().sum())"
   ]
  },
  {
   "cell_type": "code",
   "execution_count": 13,
   "id": "b9d11272-b3f0-4788-a001-804dff29eb7d",
   "metadata": {},
   "outputs": [],
   "source": [
    "open = open.astype(float)\n",
    "high = open.astype(float)\n",
    "low = low.astype(float)\n",
    "close = close.astype(float)\n",
    "inf = inf.astype(float)"
   ]
  },
  {
   "cell_type": "code",
   "execution_count": 14,
   "id": "c8a4b4bb-46d0-4b48-8702-1e75c81f9ce9",
   "metadata": {},
   "outputs": [
    {
     "name": "stdout",
     "output_type": "stream",
     "text": [
      "      Open  High   Low  Close  Inflation\n",
      "0     0.53  0.54  0.53   0.53  14.692346\n",
      "1     0.53  0.54  0.53   0.53  14.692346\n",
      "2     0.54  0.54  0.53   0.53  14.692346\n",
      "3     0.53  0.55  0.53   0.55  14.692346\n",
      "4     0.56  0.57  0.56   0.57  14.692346\n",
      "...    ...   ...   ...    ...        ...\n",
      "4793  2.74  2.78  2.70   2.75  -0.280000\n",
      "4794  2.79  2.83  2.75   2.81  -1.850000\n",
      "4795  2.85  2.89  2.81   2.83  -3.170000\n",
      "4796  2.86  2.97  2.82   2.97   1.680000\n",
      "4797  3.06  3.11  2.98   2.98   3.760000\n",
      "\n",
      "[4798 rows x 5 columns]\n"
     ]
    },
    {
     "data": {
      "text/plain": [
       "<Axes: >"
      ]
     },
     "execution_count": 14,
     "metadata": {},
     "output_type": "execute_result"
    },
    {
     "data": {
      "image/png": "[encoded data removed]",
      "text/plain": [
       "<Figure size 800x800 with 2 Axes>"
      ]
     },
     "metadata": {},
     "output_type": "display_data"
    }
   ],
   "source": [
    "data = data.drop(['country', 'ISO3', 'date'],axis = 1)\n",
    "print(data)\n",
    "correlation= data.corr()\n",
    "plt.figure(figsize=(8,8))\n",
    "sns.heatmap(correlation, cbar=True, square=True, fmt='.4f', annot=True, annot_kws={'size':8}, cmap='Blues')"
   ]
  },
  {
   "cell_type": "code",
   "execution_count": 15,
   "id": "52d6176c-2a88-4f19-b988-18d57caf1239",
   "metadata": {},
   "outputs": [
    {
     "name": "stdout",
     "output_type": "stream",
     "text": [
      "Open         0.361805\n",
      "High         0.361645\n",
      "Low          0.362578\n",
      "Close        0.364317\n",
      "Inflation    1.000000\n",
      "Name: Inflation, dtype: float64\n"
     ]
    }
   ],
   "source": [
    "#correlation vlaues \n",
    "print(correlation['Inflation'])"
   ]
  },
  {
   "cell_type": "code",
   "execution_count": 16,
   "id": "b2f32742-4c2a-43e4-82fc-8dfb144cfe1b",
   "metadata": {},
   "outputs": [
    {
     "data": {
      "text/plain": [
       "<seaborn.axisgrid.FacetGrid at 0x7f94682fe8c0>"
      ]
     },
     "execution_count": 16,
     "metadata": {},
     "output_type": "execute_result"
    },
    {
     "data": {
      "image/png": "[encoded data removed]",
      "text/plain": [
       "<Figure size 750x500 with 1 Axes>"
      ]
     },
     "metadata": {},
     "output_type": "display_data"
    }
   ],
   "source": [
    "sns.displot(data['Inflation'],color='green',height=5,aspect=1.5)"
   ]
  },
  {
   "cell_type": "code",
   "execution_count": 17,
   "id": "40aac2cd-b94f-4f95-859d-94961b22bc9a",
   "metadata": {
    "scrolled": true
   },
   "outputs": [
    {
     "name": "stdout",
     "output_type": "stream",
     "text": [
      "      Open  High   Low  Close\n",
      "0     0.53  0.54  0.53   0.53\n",
      "1     0.53  0.54  0.53   0.53\n",
      "2     0.54  0.54  0.53   0.53\n",
      "3     0.53  0.55  0.53   0.55\n",
      "4     0.56  0.57  0.56   0.57\n",
      "...    ...   ...   ...    ...\n",
      "4793  2.74  2.78  2.70   2.75\n",
      "4794  2.79  2.83  2.75   2.81\n",
      "4795  2.85  2.89  2.81   2.83\n",
      "4796  2.86  2.97  2.82   2.97\n",
      "4797  3.06  3.11  2.98   2.98\n",
      "\n",
      "[4798 rows x 4 columns]\n",
      "0       14.692346\n",
      "1       14.692346\n",
      "2       14.692346\n",
      "3       14.692346\n",
      "4       14.692346\n",
      "          ...    \n",
      "4793    -0.280000\n",
      "4794    -1.850000\n",
      "4795    -3.170000\n",
      "4796     1.680000\n",
      "4797     3.760000\n",
      "Name: Inflation, Length: 4798, dtype: float64\n"
     ]
    }
   ],
   "source": [
    "#Splitting the features and target\n",
    "\n",
    "X = data.drop(['Inflation'],axis = 1)\n",
    "Y = data['Inflation']\n",
    "\n",
    "print(X)\n",
    "print(Y)"
   ]
  },
  {
   "cell_type": "code",
   "execution_count": 18,
   "id": "1e30ead9-752f-4ae2-9654-fed0a9d9f595",
   "metadata": {},
   "outputs": [],
   "source": [
    "from sklearn.model_selection import train_test_split\n",
    "# Split the data into training and testing sets (80% train, 20% test)\n",
    "X_train, X_test, Y_train, Y_test = train_test_split(X, Y, test_size=0.2, random_state=2)"
   ]
  },
  {
   "cell_type": "code",
   "execution_count": 19,
   "id": "41ac0b9e-1186-4cae-9b5e-1d8c326d236f",
   "metadata": {},
   "outputs": [
    {
     "data": {
      "text/plain": [
       "['inf_model.joblib']"
      ]
     },
     "execution_count": 19,
     "metadata": {},
     "output_type": "execute_result"
    }
   ],
   "source": [
    "#Model Training: Random Forest Regressor\n",
    "inf_model = RandomForestRegressor(n_estimators=100)\n",
    "inf_model.fit(X_train,Y_train)\n",
    "\n",
    "from joblib import dump\n",
    "dump(inf_model, 'inf_model.joblib')"
   ]
  },
  {
   "cell_type": "code",
   "execution_count": 20,
   "id": "c17df467-015f-4e31-8490-f10f7a6a50d8",
   "metadata": {},
   "outputs": [
    {
     "name": "stdout",
     "output_type": "stream",
     "text": [
      "[ 3.24906000e+01 -3.86650346e-01  4.50879905e+00 -1.48651782e-01\n",
      "  8.39623604e+00  3.56382491e-01  4.02459642e+00  6.13888119e+00\n",
      "  2.80120000e+00  7.21026000e+01  1.31239250e+01  1.46923455e+01\n",
      " -8.46385539e-01 -3.25210428e+00 -1.72584083e+00  1.08285310e+00\n",
      "  3.09505000e+00  5.72396667e-01  5.50900833e+00  6.70253000e+01\n",
      "  4.52538619e+00  5.51573351e+00 -8.05253571e+00  5.76707500e+00\n",
      "  5.73069333e+00  1.71095720e+00  2.61274905e+01  5.04351300e+01\n",
      "  1.24713333e+01  3.08136000e+01 -7.12803357e+00  1.70222812e+00\n",
      "  1.71283000e+01  3.10589000e+01  2.82501000e+01  1.46192320e+01\n",
      "  5.21732905e+00 -5.16298727e+00 -3.58140000e-01  6.15750333e+00\n",
      "  1.21982143e+00  1.67677067e+01  1.53657967e+02  2.91288250e+01\n",
      "  1.46923455e+01  1.04152175e+01  1.05358400e+01  1.58476827e+00\n",
      "  2.30035000e+01  1.47123000e+01 -3.37733905e+00  1.91126235e+01\n",
      "  1.45280679e+00  4.02459642e+00  1.46476000e+01  4.82195081e-01\n",
      "  5.33316667e+00 -2.66464591e+00  1.13435000e+01  1.45869892e+01\n",
      "  2.00027000e+00  3.56004250e+01  1.53980264e+00  7.75776812e+00\n",
      " -4.44335706e+00 -8.47584381e+00  8.53096000e+01  1.97521037e+00\n",
      " -5.20848638e-01  5.19510833e+00  2.08988318e+00  4.56846667e+01\n",
      "  7.67697000e+01  4.23026745e+01  1.55372300e+02  1.07566500e+00\n",
      " -6.44653333e-01  1.78188734e+01  7.45215000e+00  1.01128831e+01\n",
      "  1.03149887e+00 -4.79629603e+00  3.20037295e+01 -1.25134905e+00\n",
      "  1.42120400e+02  3.10756000e+01  3.02718883e+00  1.08792809e+01\n",
      "  1.88628412e+01 -5.42121551e+00  1.38849100e+02  6.83525893e+00\n",
      "  4.98077500e+00  2.32944952e+00  2.42826000e+01  5.42416833e+00\n",
      " -1.83263333e-01  6.99405000e+00  1.92016540e+00  3.35936691e+01\n",
      "  1.26090500e+02  1.96918419e+01  5.42416833e+00  4.18991948e+00\n",
      "  2.76632000e+01  1.81549652e+01  1.58627235e+01  3.16790000e+01\n",
      "  3.37194000e+01  1.89624000e+01  3.52388000e+01  2.44261000e+01\n",
      "  1.17712122e+01  2.50200000e-01 -1.12945463e+00  1.70797209e+00\n",
      "  1.45866095e+01 -3.54147500e+00  1.96347267e+01  7.92653095e+00\n",
      " -4.11389785e+00  1.21837116e+01  6.68291617e+00  5.18473500e+00\n",
      " -4.06516057e+00  1.60098296e+02 -2.03902796e+00  9.12631313e+00\n",
      " -4.46670833e+00  4.55574238e+00  3.27289105e+01  1.73226379e+00\n",
      "  5.23938500e+00 -3.25785794e-01 -6.89964986e+00  1.46923455e+01\n",
      "  3.14918000e+01  7.67697000e+01  8.31970913e+00  6.82334476e+00\n",
      "  1.23505000e+02  1.12461000e+01  1.08620346e+00  3.52916000e+01\n",
      "  6.47769333e+00  1.36343167e+01  4.48410530e+00 -4.13458359e+00\n",
      "  1.50750000e+01  5.88851786e-01  1.25499217e-01  1.15226000e+01\n",
      "  4.05790917e+00  1.39028586e+01  1.46923455e+01  1.72271860e+01\n",
      "  5.30256000e+01  1.60042667e+01  4.27270903e+00  2.27960235e+01\n",
      " -1.25134905e+00  1.68841500e+01  2.05173000e+01  7.13241842e+00\n",
      "  7.05078000e+00  5.45639333e+00  1.07667707e+01  1.53980264e+00\n",
      " -2.29319220e+00 -4.44335706e+00  1.63152500e+01 -9.40441560e+00\n",
      "  1.46923455e+01 -4.65087083e+00  1.16024000e+01  4.48825637e+00\n",
      "  1.25436143e+00  1.32575600e+01  1.28618500e+02  2.65940571e+01\n",
      " -2.31774627e+00  2.59975167e+00  3.68315784e+00  9.59359599e+00\n",
      "  6.70689588e+00  8.43730000e+00  1.08285310e+00 -6.56615992e+00\n",
      " -4.32493036e+00  2.36787500e+00  1.76138476e+01  7.85674917e+00\n",
      "  3.01294646e-01 -3.98106905e-01  1.17411000e+01  5.17857409e+00\n",
      "  8.70125000e+00 -1.61287079e+00 -5.23912210e-02  3.58128595e+00\n",
      "  1.68755700e+01  4.41713886e+00  6.70780000e+00  8.28981333e+00\n",
      "  3.52324628e+00  1.51641000e+01 -3.98640889e+00 -1.19548921e-01\n",
      "  2.90434000e+01  1.01753283e+00  3.74858650e+01  1.60460000e+01\n",
      "  8.39691369e+00  4.03627917e+01  1.51680000e+00  8.05698000e+01\n",
      " -4.06516057e+00 -7.05440916e-01  1.14784111e+01 -2.61132262e+00\n",
      "  6.26722667e+00  3.82457333e+00  5.59858000e+01  1.46923455e+01\n",
      "  2.81058000e+01  1.08806904e+01  3.20037295e+01  3.50018386e+01\n",
      "  1.63968667e+01  2.71690000e+01  3.90104000e+01  2.75722024e+00\n",
      "  1.46923455e+01  1.09810693e+01  2.41636001e+00  2.84364897e+00\n",
      "  9.12631313e+00  1.01753283e+00  1.00629226e+01 -1.17987522e+01\n",
      "  2.02925755e-01  2.11150901e+01  4.52538619e+00 -9.97832500e+00\n",
      "  1.66324107e+00  1.43124700e+01  1.00532985e+01  9.62517767e+00\n",
      " -1.41433333e+00  3.34758000e+01  4.02582000e+01  3.35039000e+01\n",
      " -1.05362491e+00  3.02782800e+01 -2.93314167e-01  3.25111833e+00\n",
      "  1.77548274e+00  3.75402500e+00  1.40256705e+01  8.03233416e+00\n",
      "  8.75592079e+00  2.32944952e+00 -5.63401786e-01  9.59548847e+00\n",
      "  1.31239250e+01  2.48734000e+01  1.08471767e+01  2.07506100e+01\n",
      "  4.85103000e+01 -2.75748481e+00  1.57688900e+02  1.17515353e+01\n",
      "  6.73357286e+00  3.35889667e+01  7.03192486e-01  1.22541391e+00\n",
      "  7.34902667e+00 -1.53347991e+00  6.82334476e+00 -2.13179467e+00\n",
      "  7.41603333e+00  4.02459642e+00  4.77492310e+00  1.17030423e+01\n",
      " -1.30307130e+00 -9.40441560e+00  2.33512000e+01  6.52439667e+00\n",
      "  1.26677000e+01 -4.53781301e+00  6.10761955e+00  1.09357581e+01\n",
      "  3.66638795e-01  3.94672806e+01  1.59820401e+01  6.88951710e+00\n",
      "  8.43464025e+00  5.95025476e+00  7.79239342e+00  4.56665000e+00\n",
      "  1.08896445e+01  3.05638746e+00  4.56684000e+01 -4.49208786e+00\n",
      "  2.61085000e+01  1.43854611e+01  3.67433089e+00 -5.42650071e+00\n",
      "  7.13241842e+00  3.02718883e+00  1.94620750e+01 -6.27836667e+00\n",
      "  1.96918419e+01  2.88403000e+01  8.66766667e+00  1.42007055e+01\n",
      "  4.84976000e+01  1.11102320e+00  1.07190270e+01  7.13241842e+00\n",
      "  4.33772778e+00  1.57399000e+01  2.12665000e+01 -3.36726429e+00\n",
      "  1.44863669e+01  1.44228221e+01  1.40256705e+01  2.91194800e+01\n",
      " -6.87667167e+00  4.54265673e+01  1.56589000e+01  1.05565950e+01\n",
      " -2.48770618e+00  9.05352500e+00  2.87566833e+01  8.39691369e+00\n",
      "  4.47662333e+00  1.12719849e+01  3.20037295e+01  5.76300000e+00\n",
      "  2.56635097e+01  9.56856331e-01  3.05638746e+00  5.79771444e+00\n",
      "  7.01814389e+00  1.19409800e+02  9.80247095e+00  2.62813048e+00\n",
      "  1.12567556e+01 -7.12803357e+00  1.33735402e+01  4.03627917e+01\n",
      "  1.31757900e+01  1.51677827e+01  6.65844835e+00  2.21046933e+01\n",
      " -1.48651782e-01  1.45576667e+00  5.74461571e+00  7.19259013e+00\n",
      "  2.93701667e+00  2.33146333e+01  2.00362571e+01  7.84802592e+00\n",
      " -4.47723845e+00  3.91050476e-01  2.17378200e+01  8.51708640e+00\n",
      "  3.63863675e+00  1.78852053e-01  1.53908500e+02  3.67433089e+00\n",
      " -3.52322818e+00  1.31885500e+01  1.40449100e+02  1.31260544e+01\n",
      "  1.37275928e+01  1.51824600e+01  1.13242155e+01  7.34778000e+01\n",
      "  2.93623000e+01  1.29489169e+01  6.27558476e+00  8.63743333e+00\n",
      " -5.59248726e+00 -3.30642463e+00  3.37839000e+01  1.43495746e+01\n",
      "  1.46923455e+01  2.11988014e+00  2.16883369e+01  7.47902036e+00\n",
      "  7.34902667e+00  3.50018386e+01  1.42231400e+02  3.03761000e+01\n",
      "  2.46699000e+01 -1.95865619e+00  1.58476827e+00  1.80236833e+01\n",
      "  1.12570452e+01  6.20215500e+00 -2.76736667e+00  2.72428833e+00\n",
      "  8.19508725e+00  3.65356350e+01  2.17155600e+02  1.58501000e+01\n",
      "  1.71095720e+00  5.75428600e+01  7.26838683e+00  1.28105667e+00\n",
      " -4.49961429e+00 -6.56615992e+00  1.43554358e+01  6.47769333e+00\n",
      "  3.02718883e+00  9.14760537e+00  3.20037295e+01 -6.72308333e-02\n",
      " -1.15570781e+00  1.39004006e+01  1.24677430e+01  3.67433089e+00\n",
      "  1.29903500e+02  5.59268963e+00  4.57552195e+00  5.09718297e+00\n",
      "  1.26413519e+01 -1.48651782e-01  7.30938000e+01  4.34314048e+00\n",
      "  1.16497200e+02  1.28120757e+01  2.46620000e+00  1.15422029e+01\n",
      "  4.89120000e+01  9.68051667e-01  2.65155000e+01  4.45964358e+00\n",
      " -6.88935186e+00  2.20718000e+01 -1.47041000e+00  6.52439667e+00\n",
      "  1.03149887e+00 -1.03156700e+01  6.27558476e+00  1.43796151e+00\n",
      "  1.20075700e+02  3.80370350e+01  1.75778495e+01  4.50879905e+00\n",
      "  5.29879568e+00 -4.06516057e+00  1.34642754e+01  1.08285310e+00\n",
      "  5.36729167e+00  1.36531000e+01  1.11102320e+00  4.65971667e+01\n",
      "  1.05604929e+00  6.54796646e+00  2.24845000e+00  1.46923455e+01\n",
      " -3.80842632e-01  5.76300000e+00  1.09913133e+01  6.83964405e+00\n",
      "  1.45148579e+01  2.97352888e+00  2.42999310e+00 -4.12073333e-01\n",
      " -2.13903951e+00  2.17378200e+01  4.60864750e+00  8.76149000e+00\n",
      " -8.19641731e+00  1.57694117e+01  2.80938100e+01 -5.66885916e+00\n",
      "  9.86822275e+00  6.31894422e+00  5.76707500e+00 -4.85404833e+00\n",
      "  2.59710582e+00  2.91222645e+01  2.72662607e+00  1.88889004e+01\n",
      "  3.20149167e+00  2.52257881e+00  1.42831989e+01  1.70797209e+00\n",
      "  6.06912000e+01  1.16191999e+00  5.80907333e+01  3.20037295e+01\n",
      "  3.02718883e+00  2.04951554e+00  1.78773845e+00  9.91266668e+00\n",
      "  1.46923455e+01 -9.25984524e-01  4.37624745e+01  2.98372838e+01\n",
      " -1.22453330e+01  8.80220952e+00  4.64504735e+01  8.18506429e+00\n",
      "  8.61555000e+00  8.77785047e+00 -2.71888742e+00  4.24507000e+01\n",
      "  1.11515778e+01  2.80120000e+00  9.19510000e+00  3.91050476e-01\n",
      "  8.23957000e+01  7.13241842e+00  1.12570452e+01  4.55574238e+00\n",
      "  7.00867020e-01  9.00181488e+00  2.94388784e+00  2.02692235e+01\n",
      " -2.09889556e+00  1.56682672e+01  5.76300000e+00 -2.07155714e+00\n",
      "  1.36440700e+02  1.88940600e+01  5.97359000e+00  6.05412738e+00\n",
      "  1.53339405e+00  3.20037295e+01  1.20438048e+01  4.69390261e+00\n",
      " -6.87667167e+00  1.01753283e+00 -3.61335167e+00  1.35520167e+01\n",
      "  2.42826000e+01 -2.76736667e+00  9.23639250e+00  4.94827540e+00\n",
      "  3.01294646e-01  5.96104500e+00  1.42471467e+01  1.43554358e+01\n",
      " -3.98106905e-01  1.46923455e+01 -4.49961429e+00 -3.68018333e-01\n",
      "  6.95268624e+00  7.76113810e+00  2.82114914e+01  1.17949444e+01\n",
      "  1.36855963e+01  8.80658221e-01  3.74342000e+01  5.76707500e+00\n",
      "  9.54810141e+00  1.46923455e+01  3.20001111e+00 -1.06624367e+01\n",
      "  1.03568744e+01 -1.49829417e+00  2.98372838e+01  1.70994833e+00\n",
      "  7.23520944e+00  9.80247095e+00  8.89737750e+00  1.30042871e+01\n",
      "  1.62704825e+01  1.74290500e+01  3.67433089e+00  3.50018386e+01\n",
      "  4.94827540e+00 -9.96144500e+00  1.78746180e+01  6.25613476e+00\n",
      "  9.18439333e+00 -3.75443804e+00  4.56141167e+00  1.77822000e+01\n",
      "  8.38389048e+00  3.51767600e+01  1.25434171e+01  7.88887905e+00\n",
      "  4.21331322e+00 -1.80556333e+00  1.15536000e+01  2.39991002e+00\n",
      "  1.04031605e+00 -1.20886150e+01 -1.63156026e-01  5.36964000e+01\n",
      "  8.93761667e+00  4.46255000e+01  1.46923455e+01  5.55248773e+00\n",
      "  2.09541071e+00  1.12003438e+02  1.08608100e+02 -5.22601357e+00\n",
      "  1.44605273e+01  1.52946583e+01  1.25563233e+01 -2.01898517e+00\n",
      "  2.46943667e+01  3.51807107e+01  1.24661704e+01  7.47902036e+00\n",
      "  1.97811833e+01  8.37589772e+00  1.46192320e+01  1.04152175e+01\n",
      " -2.66464591e+00  7.16945833e+00  5.27353518e+00  2.95655235e+01\n",
      "  1.46645221e+01  1.36855963e+01 -8.05253571e+00  1.08620346e+00\n",
      " -1.15570781e+00  3.11288667e+00  1.02959449e+01  6.21567097e+00\n",
      "  1.35979477e+01 -2.87490833e+00 -3.37733905e+00 -2.54755734e+00\n",
      "  1.57890600e+01 -7.41756477e+00  1.47773517e+01  1.62621056e+00\n",
      " -7.85917976e-01  1.63449485e+01 -4.36898937e+00  2.72428833e+00\n",
      " -9.25984524e-01  7.16791349e+00  1.10365157e+01 -1.26659696e+00\n",
      "  1.00532985e+01  5.09718297e+00  7.64916500e+00  7.40234813e+00\n",
      "  2.94388784e+00  2.24845000e+00  1.53319000e+01  6.66018133e+00\n",
      " -9.25984524e-01 -4.06516057e+00  1.14015500e+01  1.10000564e+01\n",
      "  1.26881812e+01  7.87376058e+00  3.27308233e+01  1.01741217e+01\n",
      "  1.48966500e+01  1.15284469e+01  1.28106200e+01  7.40234813e+00\n",
      "  1.48450000e+01  3.51799685e+00 -5.16916545e+00  1.15627977e+00\n",
      "  2.54473000e+01  2.06956429e+01 -3.25785794e-01  7.46264381e+00\n",
      "  7.85190000e+00 -1.48327619e+00  3.91050476e-01  1.46923455e+01\n",
      "  8.80658221e-01  1.61231667e+01  1.25429833e+01  9.07855952e+00\n",
      "  1.05604929e+00  2.46916886e+01  3.25111833e+00  1.42236113e+01\n",
      " -5.23912210e-02  9.56856331e-01  6.60675183e+00  1.25213307e+01\n",
      "  3.90730333e+00  1.86135833e+00  6.99285270e+00  6.85563881e+00\n",
      "  9.39875950e-01  9.09340833e-01  1.47773517e+01  2.28643500e+00\n",
      "  2.64842367e+00 -7.18736867e+00  1.71078000e+01  6.34663190e-01\n",
      "  1.24918431e+01  6.52439667e+00  7.01089045e+00  2.77779417e+01\n",
      "  8.63743333e+00  1.04393133e+01  6.00554905e+00  3.17601333e+01\n",
      "  7.14823578e+00 -4.79629603e+00  4.52538619e+00  2.76274000e+01\n",
      "  3.58128595e+00  1.07471031e+01  1.12719849e+01  1.12181918e+01\n",
      "  1.46923455e+01  1.08485212e+01 -7.06975974e-02  9.80247095e+00\n",
      "  5.52484967e+00  1.41677333e+01 -1.78183667e+00  3.21599171e+00\n",
      "  8.66746174e+00  1.36089900e+02  8.62899060e+00  1.96007167e+01\n",
      "  9.39060000e-01  1.02662400e+02  3.81003770e+00  8.80658221e-01\n",
      "  2.75722024e+00  1.06181058e+01  7.31618333e+00  1.41240098e+01\n",
      "  7.89235048e+00  9.86822275e+00 -1.84460675e+00  2.27960235e+01\n",
      "  9.95789214e+00  2.10179765e+00 -4.49208786e+00  4.35699867e+01\n",
      "  1.35979477e+01  3.11288667e+00  1.46655469e+01  1.29206704e+01\n",
      "  3.37625132e+00 -4.00476545e-01  1.48636000e+01  2.94388784e+00\n",
      "  1.88889004e+01  1.28725333e+01  3.24851000e+00  1.46923455e+01\n",
      "  1.64717667e+01  4.18522631e+00 -5.22601357e+00  8.94869810e+00\n",
      " -5.27252940e+00  1.32270200e+02  6.70587616e+00  2.90884000e+01\n",
      "  3.02718883e+00  6.71194095e+00  8.39623604e+00 -1.26659696e+00\n",
      "  3.66638795e-01  1.70994833e+00  1.07793000e+01  2.66269667e+01\n",
      "  9.66872000e+01  3.71289227e+00  7.47902036e+00  3.56382491e-01\n",
      "  1.52589762e+01 -2.26416221e+00  3.26333000e+01  1.64857310e+00\n",
      "  1.03020708e+01  2.64288742e+00 -2.24112322e+00  4.08439000e+00\n",
      "  9.27598390e+00  7.44178167e+00  1.78852053e-01  4.98185000e+01\n",
      "  3.37625132e+00 -2.22718571e+00  1.17835700e+01  1.07742655e+00\n",
      "  1.66167100e+01  8.77785047e+00  4.05790917e+00  1.27177333e+01\n",
      "  2.77839000e+01  7.85010000e-01 -9.40441560e+00  1.52946583e+01\n",
      "  5.80166418e+00  1.46923455e+01  3.85948179e+00  1.68176250e+01\n",
      "  8.54684986e+00  1.46923455e+01  1.11102320e+00  8.05710333e+00\n",
      "  2.14269155e+01 -5.23912210e-02  8.75190000e+01  2.49013333e-01\n",
      "  2.12369000e+01  2.27435000e+01  5.09718297e+00  5.27909637e+00\n",
      "  3.84395238e-02  8.50913441e+00 -9.99504850e-01  6.27558476e+00\n",
      "  6.95268624e+00  4.49897616e+00  8.19798583e+00  1.37157000e+01\n",
      "  3.45033333e+00  7.62037727e+00  1.39004006e+01  8.80658221e-01\n",
      "  6.40839333e+00  4.54775885e+00  2.28212333e+01  4.30141112e+01\n",
      "  8.96577571e+00  5.74331155e+00  7.41312738e+00  4.02459642e+00\n",
      "  1.48880500e+01  1.90865518e+01  4.99420103e+00  6.47237833e+00\n",
      "  2.64842367e+00  1.78746180e+01  1.30604000e+02 -6.44653333e-01\n",
      "  6.76073354e+00  1.28622923e+01  8.77785047e+00  1.43796151e+00\n",
      "  7.79980000e+00 -4.46670833e+00  1.16658544e+01  1.16658544e+01\n",
      "  9.29261500e+00 -1.46899010e+00  8.29140020e+00  6.89078000e+01\n",
      " -8.46385539e-01  6.29391000e+01  9.57235949e+00  9.39603960e+00\n",
      "  8.50913441e+00  2.91601136e+00  2.02925755e-01  4.08958000e+01\n",
      "  1.89091481e+01  2.71671846e+00  4.18522631e+00  1.43854611e+01\n",
      "  6.88968558e+00  2.50407617e+01  4.47662333e+00  3.10153000e+01\n",
      "  3.14974696e+00 -2.09877097e+00  4.48410530e+00  1.97252500e+01\n",
      "  4.95529000e+01  1.17893770e+01  2.00027000e+00  7.89462167e+00\n",
      "  6.81327500e+00 -1.82553626e+00  9.69570000e+00  3.68315784e+00\n",
      " -2.12764769e-01 -2.09430476e+00 -9.25997055e+00  8.26876833e+00\n",
      "  1.19202917e+01  2.25752000e+01  7.85190000e+00  1.35950765e+01\n",
      "  1.04332863e+01 -4.31660333e+00  2.35646667e-01 -4.44335706e+00\n",
      " -5.07515449e-02  6.09227500e+00  6.27866874e+00 -6.00704524e-01\n",
      "  2.12684677e+01  1.45121486e+00  1.55023600e+01 -2.71888742e+00\n",
      "  9.32365500e+00  1.93992829e+00  3.45774762e-01  5.30912817e+00\n",
      "  7.00764000e+00  6.14735158e+00  8.56703000e+01  8.77785047e+00\n",
      "  7.62037727e+00  3.14232200e+01  3.38746997e+01  6.64120476e-01\n",
      "  3.24268500e+00 -6.88935186e+00  5.18323084e+00  5.01750701e+00\n",
      "  1.59820401e+01  1.18699235e+01  1.46923455e+01 -5.63217333e+00\n",
      "  1.39555121e+01  1.35950765e+01  7.13241842e+00  3.05638746e+00\n",
      "  1.31665679e+00 -2.47198238e+00 -4.61477083e+00  1.31534800e+02\n",
      "  9.07810000e+01  1.46923455e+01  1.81419512e+00  1.15284469e+01\n",
      " -2.09889556e+00  1.37795700e+02  1.07742655e+00  1.34762100e+02\n",
      "  1.62621056e+00  1.88287905e+00  2.74848722e+00 -1.75290476e+00\n",
      "  5.17857409e+00  7.03192486e-01  7.46264381e+00  1.47029789e+01\n",
      " -3.09980000e-01 -9.37133333e-02  1.58476827e+00  8.55706667e+00\n",
      "  3.73363333e-01  1.59977000e+01  5.10934000e+01  6.68291617e+00\n",
      "  7.65328298e+00  1.40221416e+00  1.93731400e+01 -2.29319220e+00]\n"
     ]
    }
   ],
   "source": [
    "#Model Evalutaion\n",
    "#Prediction on Test Data\n",
    "test_data_pred = inf_model.predict(X_test)\n",
    "print(test_data_pred)"
   ]
  },
  {
   "cell_type": "code",
   "execution_count": 21,
   "id": "e14b0b23-cd5a-4ad9-88bc-64ad38a93bfe",
   "metadata": {},
   "outputs": [
    {
     "name": "stdout",
     "output_type": "stream",
     "text": [
      "R squared error: 0.38563208746415023\n"
     ]
    }
   ],
   "source": [
    "#R squared error\n",
    "err_score = metrics.r2_score(Y_test,test_data_pred)\n",
    "print(\"R squared error:\",err_score)"
   ]
  },
  {
   "cell_type": "code",
   "execution_count": 22,
   "id": "b310fa01-a296-4723-969d-2377ea25da66",
   "metadata": {},
   "outputs": [
    {
     "data": {
      "image/png": "[encoded data removed]",
      "text/plain": [
       "<Figure size 640x480 with 1 Axes>"
      ]
     },
     "metadata": {},
     "output_type": "display_data"
    }
   ],
   "source": [
    "#Compare the actual values and predicted values in plot\n",
    "Y_test = list(Y_test)\n",
    "\n",
    "plt.plot(Y_test, color='blue', label = 'Actual Value')\n",
    "plt.plot(test_data_pred, color='green', label = 'Predicted Value')\n",
    "plt.title('Actual Value vs Predicted Value')\n",
    "plt.xlabel('Number of Values')\n",
    "plt.ylabel('Inflation Rate')\n",
    "plt.legend()\n",
    "plt.show()"
   ]
  },
  {
   "cell_type": "code",
   "execution_count": 23,
   "id": "4af8040e-f952-4413-ad8a-1b49514586e8",
   "metadata": {},
   "outputs": [],
   "source": [
    "# import sys\n",
    "# !{sys.executable} -m pip install joblib\n",
    "\n",
    "from joblib import load\n",
    "\n",
    "# Load the model from the file\n",
    "loaded_model = load('inf_model.joblib')"
   ]
  },
  {
   "cell_type": "code",
   "execution_count": 24,
   "id": "ca98c83f-d6a2-445e-a1de-8126ebf0d8d0",
   "metadata": {},
   "outputs": [
    {
     "name": "stdout",
     "output_type": "stream",
     "text": [
      "[138.134]\n"
     ]
    },
    {
     "name": "stderr",
     "output_type": "stream",
     "text": [
      "/home/satishn/.local/lib/python3.10/site-packages/sklearn/base.py:465: UserWarning: X does not have valid feature names, but RandomForestRegressor was fitted with feature names\n",
      "  warnings.warn(\n"
     ]
    }
   ],
   "source": [
    "print(loaded_model.predict([[2,3,4,5]]))"
   ]
  },
  {
   "cell_type": "code",
   "execution_count": null,
   "id": "911deca9-3631-4f5a-9b7b-a356084b1c15",
   "metadata": {},
   "outputs": [],
   "source": []
  }
 ],
 "metadata": {
  "kernelspec": {
   "display_name": "Python 3 (ipykernel)",
   "language": "python",
   "name": "python3"
  },
  "language_info": {
   "codemirror_mode": {
    "name": "ipython",
    "version": 3
   },
   "file_extension": ".py",
   "mimetype": "text/x-python",
   "name": "python",
   "nbconvert_exporter": "python",
   "pygments_lexer": "ipython3",
   "version": "3.10.12"
  }
 },
 "nbformat": 4,
 "nbformat_minor": 5
}
