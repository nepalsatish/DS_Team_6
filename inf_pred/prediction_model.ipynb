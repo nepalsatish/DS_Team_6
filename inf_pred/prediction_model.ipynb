{
 "cells": [
  {
   "cell_type": "code",
   "execution_count": 32,
   "id": "2dea646f-44ef-48da-943a-a5a5812f517e",
   "metadata": {},
   "outputs": [
    {
     "name": "stdout",
     "output_type": "stream",
     "text": [
      "<class 'pandas.core.frame.DataFrame'>\n",
      "RangeIndex: 4798 entries, 0 to 4797\n",
      "Data columns (total 8 columns):\n",
      " #   Column     Non-Null Count  Dtype  \n",
      "---  ------     --------------  -----  \n",
      " 0   Open       4734 non-null   float64\n",
      " 1   High       4734 non-null   float64\n",
      " 2   Low        4734 non-null   float64\n",
      " 3   Close      4734 non-null   float64\n",
      " 4   Inflation  4434 non-null   float64\n",
      " 5   country    4798 non-null   object \n",
      " 6   ISO3       4798 non-null   object \n",
      " 7   date       4798 non-null   object \n",
      "dtypes: float64(5), object(3)\n",
      "memory usage: 300.0+ KB\n"
     ]
    },
    {
     "data": {
      "text/html": [
       "<div>\n",
       "<style scoped>\n",
       "    .dataframe tbody tr th:only-of-type {\n",
       "        vertical-align: middle;\n",
       "    }\n",
       "\n",
       "    .dataframe tbody tr th {\n",
       "        vertical-align: top;\n",
       "    }\n",
       "\n",
       "    .dataframe thead th {\n",
       "        text-align: right;\n",
       "    }\n",
       "</style>\n",
       "<table border=\"1\" class=\"dataframe\">\n",
       "  <thead>\n",
       "    <tr style=\"text-align: right;\">\n",
       "      <th></th>\n",
       "      <th>Open</th>\n",
       "      <th>High</th>\n",
       "      <th>Low</th>\n",
       "      <th>Close</th>\n",
       "      <th>Inflation</th>\n",
       "    </tr>\n",
       "  </thead>\n",
       "  <tbody>\n",
       "    <tr>\n",
       "      <th>count</th>\n",
       "      <td>4734.000000</td>\n",
       "      <td>4734.000000</td>\n",
       "      <td>4734.000000</td>\n",
       "      <td>4734.000000</td>\n",
       "      <td>4434.000000</td>\n",
       "    </tr>\n",
       "    <tr>\n",
       "      <th>mean</th>\n",
       "      <td>1.491880</td>\n",
       "      <td>1.536158</td>\n",
       "      <td>1.451056</td>\n",
       "      <td>1.492398</td>\n",
       "      <td>14.692346</td>\n",
       "    </tr>\n",
       "    <tr>\n",
       "      <th>std</th>\n",
       "      <td>4.652457</td>\n",
       "      <td>4.883312</td>\n",
       "      <td>4.439229</td>\n",
       "      <td>4.633321</td>\n",
       "      <td>35.910342</td>\n",
       "    </tr>\n",
       "    <tr>\n",
       "      <th>min</th>\n",
       "      <td>0.010000</td>\n",
       "      <td>0.010000</td>\n",
       "      <td>0.010000</td>\n",
       "      <td>0.010000</td>\n",
       "      <td>-31.470000</td>\n",
       "    </tr>\n",
       "    <tr>\n",
       "      <th>25%</th>\n",
       "      <td>0.740000</td>\n",
       "      <td>0.750000</td>\n",
       "      <td>0.720000</td>\n",
       "      <td>0.740000</td>\n",
       "      <td>-0.487500</td>\n",
       "    </tr>\n",
       "    <tr>\n",
       "      <th>50%</th>\n",
       "      <td>0.960000</td>\n",
       "      <td>0.980000</td>\n",
       "      <td>0.950000</td>\n",
       "      <td>0.960000</td>\n",
       "      <td>5.360000</td>\n",
       "    </tr>\n",
       "    <tr>\n",
       "      <th>75%</th>\n",
       "      <td>1.100000</td>\n",
       "      <td>1.120000</td>\n",
       "      <td>1.077500</td>\n",
       "      <td>1.100000</td>\n",
       "      <td>16.372500</td>\n",
       "    </tr>\n",
       "    <tr>\n",
       "      <th>max</th>\n",
       "      <td>102.460000</td>\n",
       "      <td>106.480000</td>\n",
       "      <td>94.420000</td>\n",
       "      <td>94.420000</td>\n",
       "      <td>363.100000</td>\n",
       "    </tr>\n",
       "  </tbody>\n",
       "</table>\n",
       "</div>"
      ],
      "text/plain": [
       "              Open         High          Low        Close    Inflation\n",
       "count  4734.000000  4734.000000  4734.000000  4734.000000  4434.000000\n",
       "mean      1.491880     1.536158     1.451056     1.492398    14.692346\n",
       "std       4.652457     4.883312     4.439229     4.633321    35.910342\n",
       "min       0.010000     0.010000     0.010000     0.010000   -31.470000\n",
       "25%       0.740000     0.750000     0.720000     0.740000    -0.487500\n",
       "50%       0.960000     0.980000     0.950000     0.960000     5.360000\n",
       "75%       1.100000     1.120000     1.077500     1.100000    16.372500\n",
       "max     102.460000   106.480000    94.420000    94.420000   363.100000"
      ]
     },
     "execution_count": 32,
     "metadata": {},
     "output_type": "execute_result"
    }
   ],
   "source": [
    "from sklearn.linear_model import LinearRegression\n",
    "import pandas as pd\n",
    "import numpy as np\n",
    "import seaborn as sns\n",
    "import matplotlib.pyplot as plt\n",
    "from sklearn.ensemble import RandomForestRegressor\n",
    "from sklearn import metrics\n",
    "import pickle\n",
    "\n",
    "data = pd.read_csv('./data/data_inf.csv')\n",
    "data.shape\n",
    "data.info()\n",
    "data.describe()"
   ]
  },
  {
   "cell_type": "code",
   "execution_count": 33,
   "id": "6d047a76-7e7a-43df-9e5d-127e9f1546bd",
   "metadata": {},
   "outputs": [],
   "source": [
    "open = data['Open']\n",
    "high = data['High']\n",
    "low = data['Low']\n",
    "close = data['Close']\n",
    "inf = data['Inflation']\n",
    "date = data['date']"
   ]
  },
  {
   "cell_type": "code",
   "execution_count": 34,
   "id": "9b2edaed-de9b-4a82-aadc-45c96ef72170",
   "metadata": {},
   "outputs": [
    {
     "name": "stdout",
     "output_type": "stream",
     "text": [
      "Open          64\n",
      "High          64\n",
      "Low           64\n",
      "Close         64\n",
      "Inflation    364\n",
      "country        0\n",
      "ISO3           0\n",
      "date           0\n",
      "dtype: int64\n"
     ]
    }
   ],
   "source": [
    "# Check for missing values\n",
    "print(data.isnull().sum())"
   ]
  },
  {
   "cell_type": "code",
   "execution_count": 35,
   "id": "333726dd-f746-41f1-84fe-d7f88dad3fed",
   "metadata": {},
   "outputs": [
    {
     "name": "stdout",
     "output_type": "stream",
     "text": [
      "Open         0\n",
      "High         0\n",
      "Low          0\n",
      "Close        0\n",
      "Inflation    0\n",
      "country      0\n",
      "ISO3         0\n",
      "date         0\n",
      "dtype: int64\n"
     ]
    }
   ],
   "source": [
    "open.fillna(open.mean(), inplace = True)\n",
    "high.fillna(high.mean(), inplace =True)\n",
    "low.fillna(low.mean(), inplace = True)\n",
    "close.fillna(close.mean(), inplace = True)\n",
    "inf.fillna(inf.mean(), inplace = True)\n",
    "print(data.isnull().sum())"
   ]
  },
  {
   "cell_type": "code",
   "execution_count": 36,
   "id": "b9d11272-b3f0-4788-a001-804dff29eb7d",
   "metadata": {},
   "outputs": [],
   "source": [
    "open = open.astype(float)\n",
    "high = open.astype(float)\n",
    "low = low.astype(float)\n",
    "close = close.astype(float)\n",
    "inf = inf.astype(float)"
   ]
  },
  {
   "cell_type": "code",
   "execution_count": 37,
   "id": "c8a4b4bb-46d0-4b48-8702-1e75c81f9ce9",
   "metadata": {},
   "outputs": [
    {
     "name": "stdout",
     "output_type": "stream",
     "text": [
      "      Open  High   Low  Close  Inflation\n",
      "0     0.53  0.54  0.53   0.53  14.692346\n",
      "1     0.53  0.54  0.53   0.53  14.692346\n",
      "2     0.54  0.54  0.53   0.53  14.692346\n",
      "3     0.53  0.55  0.53   0.55  14.692346\n",
      "4     0.56  0.57  0.56   0.57  14.692346\n",
      "...    ...   ...   ...    ...        ...\n",
      "4793  2.74  2.78  2.70   2.75  -0.280000\n",
      "4794  2.79  2.83  2.75   2.81  -1.850000\n",
      "4795  2.85  2.89  2.81   2.83  -3.170000\n",
      "4796  2.86  2.97  2.82   2.97   1.680000\n",
      "4797  3.06  3.11  2.98   2.98   3.760000\n",
      "\n",
      "[4798 rows x 5 columns]\n"
     ]
    },
    {
     "data": {
      "text/plain": [
       "<Axes: >"
      ]
     },
     "execution_count": 37,
     "metadata": {},
     "output_type": "execute_result"
    },
    {
     "data": {
      "image/png": "[encoded data removed]",
      "text/plain": [
       "<Figure size 800x800 with 2 Axes>"
      ]
     },
     "metadata": {},
     "output_type": "display_data"
    }
   ],
   "source": [
    "data = data.drop(['country', 'ISO3', 'date'],axis = 1)\n",
    "print(data)\n",
    "correlation= data.corr()\n",
    "plt.figure(figsize=(8,8))\n",
    "sns.heatmap(correlation, cbar=True, square=True, fmt='.4f', annot=True, annot_kws={'size':8}, cmap='Blues')"
   ]
  },
  {
   "cell_type": "code",
   "execution_count": 38,
   "id": "52d6176c-2a88-4f19-b988-18d57caf1239",
   "metadata": {},
   "outputs": [
    {
     "name": "stdout",
     "output_type": "stream",
     "text": [
      "Open         0.361805\n",
      "High         0.361645\n",
      "Low          0.362578\n",
      "Close        0.364317\n",
      "Inflation    1.000000\n",
      "Name: Inflation, dtype: float64\n"
     ]
    }
   ],
   "source": [
    "#correlation vlaues \n",
    "print(correlation['Inflation'])"
   ]
  },
  {
   "cell_type": "code",
   "execution_count": 39,
   "id": "b2f32742-4c2a-43e4-82fc-8dfb144cfe1b",
   "metadata": {},
   "outputs": [
    {
     "data": {
      "text/plain": [
       "<seaborn.axisgrid.FacetGrid at 0x7fc1884f88b0>"
      ]
     },
     "execution_count": 39,
     "metadata": {},
     "output_type": "execute_result"
    },
    {
     "data": {
      "image/png": "[encoded data removed]",
      "text/plain": [
       "<Figure size 750x500 with 1 Axes>"
      ]
     },
     "metadata": {},
     "output_type": "display_data"
    }
   ],
   "source": [
    "sns.displot(data['Inflation'],color='green',height=5,aspect=1.5)"
   ]
  },
  {
   "cell_type": "code",
   "execution_count": 40,
   "id": "40aac2cd-b94f-4f95-859d-94961b22bc9a",
   "metadata": {
    "scrolled": true
   },
   "outputs": [
    {
     "name": "stdout",
     "output_type": "stream",
     "text": [
      "      Open  High   Low  Close\n",
      "0     0.53  0.54  0.53   0.53\n",
      "1     0.53  0.54  0.53   0.53\n",
      "2     0.54  0.54  0.53   0.53\n",
      "3     0.53  0.55  0.53   0.55\n",
      "4     0.56  0.57  0.56   0.57\n",
      "...    ...   ...   ...    ...\n",
      "4793  2.74  2.78  2.70   2.75\n",
      "4794  2.79  2.83  2.75   2.81\n",
      "4795  2.85  2.89  2.81   2.83\n",
      "4796  2.86  2.97  2.82   2.97\n",
      "4797  3.06  3.11  2.98   2.98\n",
      "\n",
      "[4798 rows x 4 columns]\n",
      "0       14.692346\n",
      "1       14.692346\n",
      "2       14.692346\n",
      "3       14.692346\n",
      "4       14.692346\n",
      "          ...    \n",
      "4793    -0.280000\n",
      "4794    -1.850000\n",
      "4795    -3.170000\n",
      "4796     1.680000\n",
      "4797     3.760000\n",
      "Name: Inflation, Length: 4798, dtype: float64\n"
     ]
    }
   ],
   "source": [
    "#Splitting the features and target\n",
    "\n",
    "X = data.drop(['Inflation'],axis = 1)\n",
    "Y = data['Inflation']\n",
    "\n",
    "print(X)\n",
    "print(Y)"
   ]
  },
  {
   "cell_type": "code",
   "execution_count": 41,
   "id": "1e30ead9-752f-4ae2-9654-fed0a9d9f595",
   "metadata": {},
   "outputs": [],
   "source": [
    "from sklearn.model_selection import train_test_split\n",
    "# Split the data into training and testing sets (80% train, 20% test)\n",
    "X_train, X_test, Y_train, Y_test = train_test_split(X, Y, test_size=0.2, random_state=2)"
   ]
  },
  {
   "cell_type": "code",
   "execution_count": 45,
   "id": "41ac0b9e-1186-4cae-9b5e-1d8c326d236f",
   "metadata": {},
   "outputs": [
    {
     "data": {
      "text/plain": [
       "['inf_model.joblib']"
      ]
     },
     "execution_count": 45,
     "metadata": {},
     "output_type": "execute_result"
    }
   ],
   "source": [
    "#Model Training: Random Forest Regressor\n",
    "inf_model = RandomForestRegressor(n_estimators=100)\n",
    "inf_model.fit(X_train,Y_train)\n",
    "\n",
    "from joblib import dump\n",
    "dump(inf_model, 'inf_model.joblib')"
   ]
  },
  {
   "cell_type": "code",
   "execution_count": null,
   "id": "c17df467-015f-4e31-8490-f10f7a6a50d8",
   "metadata": {},
   "outputs": [],
   "source": [
    "#Model Evalutaion\n",
    "#Prediction on Test Data\n",
    "test_data_pred = inf_model.predict(X_test)\n",
    "print(test_data_pred)"
   ]
  },
  {
   "cell_type": "code",
   "execution_count": null,
   "id": "e14b0b23-cd5a-4ad9-88bc-64ad38a93bfe",
   "metadata": {},
   "outputs": [],
   "source": [
    "#R squared error\n",
    "err_score = metrics.r2_score(Y_test,test_data_pred)\n",
    "print(\"R squared error:\",err_score)"
   ]
  },
  {
   "cell_type": "code",
   "execution_count": null,
   "id": "b310fa01-a296-4723-969d-2377ea25da66",
   "metadata": {},
   "outputs": [],
   "source": [
    "#Compare the actual values and predicted values in plot\n",
    "Y_test = list(Y_test)\n",
    "\n",
    "plt.plot(Y_test, color='blue', label = 'Actual Value')\n",
    "plt.plot(test_data_pred, color='green', label = 'Predicted Value')\n",
    "plt.title('Actual Value vs Predicted Value')\n",
    "plt.xlabel('Number of Values')\n",
    "plt.ylabel('Inflation Rate')\n",
    "plt.legend()\n",
    "plt.show()"
   ]
  },
  {
   "cell_type": "code",
   "execution_count": 48,
   "id": "4af8040e-f952-4413-ad8a-1b49514586e8",
   "metadata": {},
   "outputs": [
    {
     "name": "stdout",
     "output_type": "stream",
     "text": [
      "RandomForestRegressor()\n"
     ]
    }
   ],
   "source": [
    "# import sys\n",
    "# !{sys.executable} -m pip install joblib\n",
    "\n",
    "from joblib import load\n",
    "\n",
    "# Load the model from the file\n",
    "loaded_model = load('inf_model.joblib')"
   ]
  },
  {
   "cell_type": "code",
   "execution_count": 52,
   "id": "ca98c83f-d6a2-445e-a1de-8126ebf0d8d0",
   "metadata": {},
   "outputs": [
    {
     "name": "stdout",
     "output_type": "stream",
     "text": [
      "[126.7203]\n"
     ]
    },
    {
     "name": "stderr",
     "output_type": "stream",
     "text": [
      "/home/satishn/.local/lib/python3.10/site-packages/sklearn/base.py:465: UserWarning: X does not have valid feature names, but RandomForestRegressor was fitted with feature names\n",
      "  warnings.warn(\n"
     ]
    }
   ],
   "source": [
    "print(loaded_model.predict([[2,3,4,5]]))"
   ]
  },
  {
   "cell_type": "code",
   "execution_count": null,
   "id": "911deca9-3631-4f5a-9b7b-a356084b1c15",
   "metadata": {},
   "outputs": [],
   "source": []
  }
 ],
 "metadata": {
  "kernelspec": {
   "display_name": "Python 3 (ipykernel)",
   "language": "python",
   "name": "python3"
  },
  "language_info": {
   "codemirror_mode": {
    "name": "ipython",
    "version": 3
   },
   "file_extension": ".py",
   "mimetype": "text/x-python",
   "name": "python",
   "nbconvert_exporter": "python",
   "pygments_lexer": "ipython3",
   "version": "3.10.12"
  }
 },
 "nbformat": 4,
 "nbformat_minor": 5
}
